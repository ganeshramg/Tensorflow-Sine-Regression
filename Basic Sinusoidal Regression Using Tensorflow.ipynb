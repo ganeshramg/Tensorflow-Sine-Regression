{
 "cells": [
  {
   "cell_type": "markdown",
   "metadata": {},
   "source": [
    "# Sinusoidal Regression using Tensorflow - Ganesh Ram Gururajan"
   ]
  },
  {
   "cell_type": "markdown",
   "metadata": {},
   "source": [
    "## Importing Packages"
   ]
  },
  {
   "cell_type": "code",
   "execution_count": 1,
   "metadata": {},
   "outputs": [
    {
     "name": "stdout",
     "output_type": "stream",
     "text": [
      "WARNING:tensorflow:From C:\\Users\\ganes\\Anaconda3\\lib\\site-packages\\tensorflow_core\\python\\compat\\v2_compat.py:88: disable_resource_variables (from tensorflow.python.ops.variable_scope) is deprecated and will be removed in a future version.\n",
      "Instructions for updating:\n",
      "non-resource variables are not supported in the long term\n"
     ]
    }
   ],
   "source": [
    "import tensorflow.compat.v1 as tf\n",
    "tf.disable_v2_behavior()"
   ]
  },
  {
   "cell_type": "code",
   "execution_count": 2,
   "metadata": {},
   "outputs": [],
   "source": [
    "import numpy as np\n",
    "import matplotlib.pyplot as plt\n",
    "%matplotlib inline"
   ]
  },
  {
   "cell_type": "code",
   "execution_count": 3,
   "metadata": {},
   "outputs": [],
   "source": [
    "np.random.seed(101)\n",
    "tf.set_random_seed(101)"
   ]
  },
  {
   "cell_type": "markdown",
   "metadata": {},
   "source": [
    "## Defining x and y data"
   ]
  },
  {
   "cell_type": "code",
   "execution_count": 4,
   "metadata": {},
   "outputs": [],
   "source": [
    "a = 41\n",
    "b = 0.3\n",
    "c = 24\n",
    "d = 77"
   ]
  },
  {
   "cell_type": "code",
   "execution_count": 5,
   "metadata": {},
   "outputs": [],
   "source": [
    "x = np.linspace(5,25,100) #Taking 100 points between 5(inclusive) and 25(exclusive)\n",
    "y = a * np.sin(b*(x-c)) + d"
   ]
  },
  {
   "cell_type": "code",
   "execution_count": 6,
   "metadata": {},
   "outputs": [
    {
     "data": {
      "text/plain": [
       "[<matplotlib.lines.Line2D at 0x1a5a36c6b08>]"
      ]
     },
     "execution_count": 6,
     "metadata": {},
     "output_type": "execute_result"
    },
    {
     "data": {
      "image/png": "[encoded data removed]",
      "text/plain": [
       "<Figure size 432x288 with 1 Axes>"
      ]
     },
     "metadata": {
      "needs_background": "light"
     },
     "output_type": "display_data"
    }
   ],
   "source": [
    "plt.plot(x,y,'*')"
   ]
  },
  {
   "cell_type": "markdown",
   "metadata": {},
   "source": [
    "## Addition of noise"
   ]
  },
  {
   "cell_type": "code",
   "execution_count": 7,
   "metadata": {},
   "outputs": [],
   "source": [
    "x += np.random.uniform(-0.5,0.5,len(x))\n",
    "y += np.random.uniform(-0.5,0.5,len(x))"
   ]
  },
  {
   "cell_type": "code",
   "execution_count": 8,
   "metadata": {},
   "outputs": [
    {
     "data": {
      "text/plain": [
       "[<matplotlib.lines.Line2D at 0x1a5afd6f648>]"
      ]
     },
     "execution_count": 8,
     "metadata": {},
     "output_type": "execute_result"
    },
    {
     "data": {
      "image/png": "[encoded data removed]",
      "text/plain": [
       "<Figure size 432x288 with 1 Axes>"
      ]
     },
     "metadata": {
      "needs_background": "light"
     },
     "output_type": "display_data"
    }
   ],
   "source": [
    "plt.plot(x,y,'*')"
   ]
  },
  {
   "cell_type": "markdown",
   "metadata": {},
   "source": [
    "## Placeholders and Variables Definition"
   ]
  },
  {
   "cell_type": "code",
   "execution_count": 9,
   "metadata": {},
   "outputs": [],
   "source": [
    "X = tf.placeholder('float')\n",
    "Y = tf.placeholder('float')"
   ]
  },
  {
   "cell_type": "code",
   "execution_count": 10,
   "metadata": {},
   "outputs": [
    {
     "data": {
      "text/plain": [
       "array([0.45304856, 0.20064522, 0.63112898, 0.01779126])"
      ]
     },
     "execution_count": 10,
     "metadata": {},
     "output_type": "execute_result"
    }
   ],
   "source": [
    "np.random.rand(4)"
   ]
  },
  {
   "cell_type": "code",
   "execution_count": 11,
   "metadata": {},
   "outputs": [],
   "source": [
    "A = tf.Variable(39.0)\n",
    "B = tf.Variable(0.2)\n",
    "C = tf.Variable(20.0)\n",
    "D = tf.Variable(70.0)"
   ]
  },
  {
   "cell_type": "markdown",
   "metadata": {},
   "source": [
    "## Defining Model"
   ]
  },
  {
   "cell_type": "code",
   "execution_count": 12,
   "metadata": {},
   "outputs": [],
   "source": [
    "y_model = tf.add(tf.multiply(tf.sin(tf.multiply(tf.subtract(X,C),B)),A),D)"
   ]
  },
  {
   "cell_type": "markdown",
   "metadata": {},
   "source": [
    "## Mean Squared Error"
   ]
  },
  {
   "cell_type": "code",
   "execution_count": 13,
   "metadata": {},
   "outputs": [],
   "source": [
    "error = tf.reduce_sum(tf.square(y_model-Y)) / len(x) #Mean Squared Error"
   ]
  },
  {
   "cell_type": "markdown",
   "metadata": {},
   "source": [
    "## Gradient Descent Optimizer"
   ]
  },
  {
   "cell_type": "code",
   "execution_count": 14,
   "metadata": {},
   "outputs": [],
   "source": [
    "optim = tf.train.AdamOptimizer(learning_rate = 0.001).minimize(error) #Gradient Descent"
   ]
  },
  {
   "cell_type": "markdown",
   "metadata": {},
   "source": [
    "## Running Tensorflow Session"
   ]
  },
  {
   "cell_type": "code",
   "execution_count": 15,
   "metadata": {},
   "outputs": [],
   "source": [
    "init = tf.global_variables_initializer() #Global Variabel Initializer"
   ]
  },
  {
   "cell_type": "code",
   "execution_count": 16,
   "metadata": {
    "scrolled": false
   },
   "outputs": [
    {
     "name": "stdout",
     "output_type": "stream",
     "text": [
      "Epoch: 10, Error: 1729.2962646484375\n",
      "Epoch: 15, Error: 484.846435546875\n",
      "Epoch: 20, Error: 426.3367004394531\n",
      "Epoch: 25, Error: 371.8323059082031\n",
      "Epoch: 30, Error: 322.3465270996094\n",
      "Epoch: 35, Error: 278.1941833496094\n",
      "Epoch: 40, Error: 239.3280029296875\n",
      "Epoch: 45, Error: 205.49661254882812\n",
      "Epoch: 50, Error: 176.31185913085938\n",
      "Epoch: 55, Error: 151.3156280517578\n",
      "Epoch: 60, Error: 130.02439880371094\n",
      "Epoch: 65, Error: 111.96112060546875\n",
      "Epoch: 70, Error: 96.6703872680664\n",
      "Epoch: 75, Error: 83.74142456054688\n",
      "Epoch: 80, Error: 72.80254364013672\n",
      "Epoch: 85, Error: 63.5288200378418\n",
      "Epoch: 90, Error: 55.63727951049805\n",
      "Epoch: 95, Error: 48.89152908325195\n",
      "Epoch: 100, Error: 43.093421936035156\n",
      "Epoch: 105, Error: 38.0768928527832\n",
      "Epoch: 110, Error: 33.70609664916992\n",
      "Epoch: 115, Error: 29.874528884887695\n",
      "Epoch: 120, Error: 26.49700927734375\n",
      "Epoch: 125, Error: 23.505353927612305\n",
      "Epoch: 130, Error: 20.847919464111328\n",
      "Epoch: 135, Error: 18.48430061340332\n",
      "Epoch: 140, Error: 16.384122848510742\n",
      "Epoch: 145, Error: 14.522421836853027\n",
      "Epoch: 150, Error: 12.882425308227539\n",
      "Epoch: 155, Error: 11.450175285339355\n",
      "Epoch: 160, Error: 10.216351509094238\n",
      "Epoch: 165, Error: 9.178046226501465\n",
      "Epoch: 170, Error: 8.332833290100098\n",
      "Epoch: 175, Error: 7.681976795196533\n",
      "Epoch: 180, Error: 7.221629619598389\n",
      "Epoch: 185, Error: 6.940467834472656\n",
      "Epoch: 190, Error: 6.81368350982666\n",
      "Epoch: 195, Error: 6.8053412437438965\n",
      "Epoch: 200, Error: 6.875178813934326\n",
      "Epoch: 205, Error: 6.986596584320068\n"
     ]
    }
   ],
   "source": [
    "with tf.Session() as sess: #Session\n",
    "    sess.run(init)\n",
    "    \n",
    "    for epochs in range(200): #500 epochs\n",
    "        \n",
    "        for (xs,ys) in zip(x,y):\n",
    "            sess.run(optim, feed_dict = {X:xs,Y:ys})\n",
    "            \n",
    "        if epochs%5 == 0:\n",
    "            print('Epoch: {}, Error: {}'.format(epochs+10,sess.run(error, feed_dict = {X:x,Y:y})))\n",
    "    \n",
    "    error_cost = sess.run(error, feed_dict = {X:x,Y:y})\n",
    "    pred_a = sess.run(A)\n",
    "    pred_b = sess.run(B)\n",
    "    pred_c = sess.run(C)\n",
    "    pred_d = sess.run(D)"
   ]
  },
  {
   "cell_type": "code",
   "execution_count": 17,
   "metadata": {},
   "outputs": [
    {
     "data": {
      "text/plain": [
       "(41.417267, 0.29992542, 23.921099, 76.446594)"
      ]
     },
     "execution_count": 17,
     "metadata": {},
     "output_type": "execute_result"
    }
   ],
   "source": [
    "pred_a,pred_b,pred_c,pred_d"
   ]
  },
  {
   "cell_type": "code",
   "execution_count": 18,
   "metadata": {},
   "outputs": [
    {
     "data": {
      "text/plain": [
       "7.087058"
      ]
     },
     "execution_count": 18,
     "metadata": {},
     "output_type": "execute_result"
    }
   ],
   "source": [
    "error_cost #Minimum Error"
   ]
  },
  {
   "cell_type": "code",
   "execution_count": 19,
   "metadata": {},
   "outputs": [],
   "source": [
    "pred = pred_d + (pred_a * (np.sin(b * (x-c))))"
   ]
  },
  {
   "cell_type": "markdown",
   "metadata": {},
   "source": [
    "## Visualizing Predicted Curve"
   ]
  },
  {
   "cell_type": "code",
   "execution_count": 20,
   "metadata": {},
   "outputs": [
    {
     "data": {
      "text/plain": [
       "[<matplotlib.lines.Line2D at 0x1a5afe61148>]"
      ]
     },
     "execution_count": 20,
     "metadata": {},
     "output_type": "execute_result"
    },
    {
     "data": {
      "image/png": "[encoded data removed]",
      "text/plain": [
       "<Figure size 432x288 with 1 Axes>"
      ]
     },
     "metadata": {
      "needs_background": "light"
     },
     "output_type": "display_data"
    }
   ],
   "source": [
    "plt.plot(x,y,'*') #Plotting original Data\n",
    "plt.plot(x,pred) #Plotting predicted Sine"
   ]
  }
 ],
 "metadata": {
  "kernelspec": {
   "display_name": "Python 3",
   "language": "python",
   "name": "python3"
  },
  "language_info": {
   "codemirror_mode": {
    "name": "ipython",
    "version": 3
   },
   "file_extension": ".py",
   "mimetype": "text/x-python",
   "name": "python",
   "nbconvert_exporter": "python",
   "pygments_lexer": "ipython3",
   "version": "3.7.4"
  }
 },
 "nbformat": 4,
 "nbformat_minor": 2
}
